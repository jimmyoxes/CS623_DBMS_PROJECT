{
 "cells": [
  {
   "cell_type": "markdown",
   "id": "d13f95d3",
   "metadata": {},
   "source": [
    "Implementing ACID properties on a relational database using Python with SQL"
   ]
  },
  {
   "cell_type": "markdown",
   "id": "a79a831d",
   "metadata": {},
   "source": [
    "Problem Statement - The product p1 changes its name to pp1 in Product and Stock"
   ]
  },
  {
   "cell_type": "code",
   "execution_count": 1,
   "id": "4324d86f",
   "metadata": {},
   "outputs": [
    {
     "name": "stdout",
     "output_type": "stream",
     "text": [
      "beginning\n"
     ]
    }
   ],
   "source": [
    "# importing SQL connector\n",
    "import mysql.connector\n",
    "print('beginning')\n",
    "\n",
    "#defining a function to establish connection with database\n",
    "def get_conn():\n",
    "    con = mysql.connector.connect(\n",
    "    host = 'localhost',\n",
    "    user = 'root',\n",
    "    password = 'Brycecarter11!',\n",
    "    database = 'cs623_project_Othniel')\n",
    "    \n",
    "    #implementing ACID properties - for isolation, we set isolation level to SERIALIZABLE\n",
    "    con.start_transaction(isolation_level = 'SERIALIZABLE')\n",
    "    #for atomicity, we set autocomit to false\n",
    "    con.autocommit = False\n",
    "\n",
    "    return con"
   ]
  },
  {
   "cell_type": "code",
   "execution_count": 3,
   "id": "c8359a00",
   "metadata": {},
   "outputs": [
    {
     "name": "stdout",
     "output_type": "stream",
     "text": [
      "mysql closed\n",
      "end1\n"
     ]
    }
   ],
   "source": [
    "#Creating product table using cursor object and assigning primary key and needed check constraint\n",
    "try:\n",
    "    con = get_conn()\n",
    "    cur = con.cursor()\n",
    "    sql1 = 'create table product(prod_id varchar(10), prod_name varchar(25), prod_price float)'\n",
    "    sql2 = 'alter table product add constraint pk_product_id primary key (prod_id)'\n",
    "    sql3 = 'alter table product add constraint ck_product_price check(prod_price > 0)'\n",
    "    cur.execute(sql1)\n",
    "    cur.execute(sql2)\n",
    "    cur.execute(sql3)\n",
    "except (Exception) as err:\n",
    "    print('err')\n",
    "    print('transactions not compeleted, rollback')\n",
    "    print(err)\n",
    "    con.rollback()\n",
    "finally:\n",
    "    if con:\n",
    "        con.commit()\n",
    "        cur.close()\n",
    "        con.close()\n",
    "        print('mysql closed')\n",
    "print('end1')"
   ]
  },
  {
   "cell_type": "code",
   "execution_count": 4,
   "id": "f0c26531",
   "metadata": {},
   "outputs": [
    {
     "name": "stdout",
     "output_type": "stream",
     "text": [
      "mysql closed\n",
      "end2\n"
     ]
    }
   ],
   "source": [
    "#Creating depot table and assigning primary key and needed check constraint\n",
    "try:\n",
    "    con = get_conn()\n",
    "    cur = con.cursor()\n",
    "    sql4 = 'create table depot(dep_id varchar(10), dep_addr varchar(25), dep_vol float)'\n",
    "    sql5 = 'alter table depot add constraint pk_depot_id primary key (dep_id)'\n",
    "    sql6 = 'alter table depot add constraint ck_depot_vol check (dep_vol > 0)'\n",
    "    cur.execute(sql4)\n",
    "    cur.execute(sql5)\n",
    "    cur.execute(sql6)\n",
    "except (Exception) as err:\n",
    "    print('err')\n",
    "    print('transactions not compeleted, rollback')\n",
    "    print(err)\n",
    "    con.rollback()\n",
    "finally:\n",
    "    if con:\n",
    "        con.commit()\n",
    "        cur.close()\n",
    "        con.close()\n",
    "        print('mysql closed')\n",
    "print('end2')"
   ]
  },
  {
   "cell_type": "code",
   "execution_count": 5,
   "id": "36bda6a2",
   "metadata": {},
   "outputs": [
    {
     "name": "stdout",
     "output_type": "stream",
     "text": [
      "mysql closed\n",
      "end3\n"
     ]
    }
   ],
   "source": [
    "#Creating stock table and assigning prod_id and dep_id as foriegn key constraints with cascade clause\n",
    "try:\n",
    "    con = get_conn()\n",
    "    cur = con.cursor()\n",
    "    sql7 = 'create table stock(prod_id varchar(10), dep_id varchar(10), st_qty float)'\n",
    "    sql8 = 'alter table stock add constraint pk_prod_dep_id primary key (prod_id, dep_id)'\n",
    "    sql9 = 'alter table stock add constraint fk_prod_id foreign key (prod_id) references product(prod_id) on update cascade on delete cascade'\n",
    "    sql10 = 'alter table stock add constraint fk_dep_id foreign key (dep_id) references depot(dep_id) on update cascade on delete cascade'\n",
    "    cur.execute(sql7)\n",
    "    cur.execute(sql8)\n",
    "    cur.execute(sql9)\n",
    "    cur.execute(sql10)\n",
    "except (Exception) as err:\n",
    "    print('err')\n",
    "    print('transactions not compeleted, rollback')\n",
    "    print(err)\n",
    "    con.rollback()\n",
    "finally:\n",
    "    if con:\n",
    "        con.commit()\n",
    "        cur.close()\n",
    "        con.close()\n",
    "        print('mysql closed')\n",
    "print('end3')"
   ]
  },
  {
   "cell_type": "code",
   "execution_count": 6,
   "id": "bdeb2b91",
   "metadata": {},
   "outputs": [
    {
     "name": "stdout",
     "output_type": "stream",
     "text": [
      "mysql closed\n",
      "end4\n"
     ]
    }
   ],
   "source": [
    "#Here we populate our tables with the values provided\n",
    "try:\n",
    "    con = get_conn()\n",
    "    cur = con.cursor()\n",
    "    sql11 = \"INSERT INTO product values('p1','tape',2.5),('p2','tv',250),('p3','ver',80)\"\n",
    "    sql12 = \"INSERT INTO depot values('d1','New York',9000),('d2','Syracuse',6000),('d4','New York',2000)\"\n",
    "    sql13 = \"INSERT INTO stock values('p1','d1',1000),('p1','d2',-100),('p1','d4',1200),('p3','d1',3000),('p3','d4',2000),('p2','d4',1500),('p2','d1',-400),('p2','d2',2000)\"\n",
    "    cur.execute(sql11)\n",
    "    cur.execute(sql12)\n",
    "    cur.execute(sql13)\n",
    "except (Exception) as err:\n",
    "    print('err')\n",
    "    print('transactions not compeleted, rollback')\n",
    "    print(err)\n",
    "    con.rollback()\n",
    "finally:\n",
    "    if con:\n",
    "        con.commit()\n",
    "        cur.close()\n",
    "        con.close()\n",
    "        print('mysql closed')\n",
    "print('end4')"
   ]
  },
  {
   "cell_type": "code",
   "execution_count": 7,
   "id": "5e5e0195",
   "metadata": {},
   "outputs": [
    {
     "name": "stdout",
     "output_type": "stream",
     "text": [
      "mysql closed\n",
      "end5\n"
     ]
    }
   ],
   "source": [
    "#Here we execute our problem statement by updating the product_id p1 as pp1 in parent table(product),it should also reflects in child table(stock)\n",
    "try:\n",
    "    con = get_conn()\n",
    "    cur = con.cursor()\n",
    "    sql14 = \"update product set prod_id ='pp1' where prod_id = 'p1'\"\n",
    "    cur.execute(sql14)\n",
    "except (Exception) as err:\n",
    "    print('err')\n",
    "    print('transactions not compeleted, rollback')\n",
    "    print(err)\n",
    "    con.rollback()\n",
    "finally:\n",
    "    if con:\n",
    "        con.commit()\n",
    "        cur.close()\n",
    "        con.close()\n",
    "        print('mysql closed')\n",
    "print('end5')"
   ]
  },
  {
   "cell_type": "code",
   "execution_count": 8,
   "id": "c82b7f72",
   "metadata": {},
   "outputs": [
    {
     "name": "stdout",
     "output_type": "stream",
     "text": [
      "prod_id : 'p2' | dep_id :  'd1' | st_qty :  -400.0 | \n",
      "prod_id : 'p2' | dep_id :  'd2' | st_qty :  2000.0 | \n",
      "prod_id : 'p2' | dep_id :  'd4' | st_qty :  1500.0 | \n",
      "prod_id : 'p3' | dep_id :  'd1' | st_qty :  3000.0 | \n",
      "prod_id : 'p3' | dep_id :  'd4' | st_qty :  2000.0 | \n",
      "prod_id : 'pp1' | dep_id :  'd1' | st_qty :  1000.0 | \n",
      "prod_id : 'pp1' | dep_id :  'd2' | st_qty :  -100.0 | \n",
      "prod_id : 'pp1' | dep_id :  'd4' | st_qty :  1200.0 | \n"
     ]
    }
   ],
   "source": [
    "#Here we use fetchall method to return result of the given problem statement\n",
    "try:\n",
    "    con = get_conn()\n",
    "    cur = con.cursor()\n",
    "    sql15 = \"select * from stock\"\n",
    "    col_lis = ['prod_id', 'dep_id', 'st_qty']\n",
    "    #values = ('prod_id', 'dep_id', 'st_qtr')\n",
    "    cur.execute(sql15)\n",
    "    result = cur.fetchall()\n",
    "except (Exception) as err:\n",
    "    print('err')\n",
    "    print('transactions not compeleted, rollback')\n",
    "    print(err)\n",
    "    con.rollback()\n",
    "finally:\n",
    "    if con:\n",
    "        con.commit()\n",
    "        cur.close\n",
    "        con.close\n",
    "        #print('mysql closed')\n",
    "\n",
    "for x in range(len(result)):\n",
    "    temp = str(result[x]).strip('(').strip(')').strip().split(',')\n",
    "    strt = ''\n",
    "    for xx in range(len(temp)):\n",
    "        strt+= col_lis[xx] + ' : ' + temp[xx] +' | ' \n",
    "    #strt+='\\n'\n",
    "    print(strt)"
   ]
  }
 ],
 "metadata": {
  "kernelspec": {
   "display_name": "Python 3 (ipykernel)",
   "language": "python",
   "name": "python3"
  },
  "language_info": {
   "codemirror_mode": {
    "name": "ipython",
    "version": 3
   },
   "file_extension": ".py",
   "mimetype": "text/x-python",
   "name": "python",
   "nbconvert_exporter": "python",
   "pygments_lexer": "ipython3",
   "version": "3.9.13"
  }
 },
 "nbformat": 4,
 "nbformat_minor": 5
}
